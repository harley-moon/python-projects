{
 "cells": [
  {
   "cell_type": "markdown",
   "metadata": {},
   "source": [
    "# Lab 10"
   ]
  },
  {
   "cell_type": "markdown",
   "metadata": {},
   "source": [
    "This week we will explore data visualization on data that we're all really fond of working with, grade data!"
   ]
  },
  {
   "cell_type": "code",
   "execution_count": 13,
   "metadata": {},
   "outputs": [],
   "source": [
    "import numpy as np\n",
    "import pandas as pd\n",
    "import scipy.stats as stats\n",
    "import matplotlib.pyplot as plt\n",
    "\n",
    "gradebook2030S20 = dict() #Spring 2020\n",
    "\n",
    "gradebook2030S20['doe123'] = {'lab1': 100, 'lab2' : 100, 'lab3' : 95, 'lab4' : 90, 'lab5' : 100, 'project1' : 100, 'project2' : 95, 'project3' : 90, 'project4' : 100}\n",
    "gradebook2030S20['smith456'] = {'lab1': 100, 'lab2' : 80, 'lab3' : 70, 'lab4' : 90, 'lab5' : 100, 'project1' : 90, 'project2' : 88, 'project3' : 98, 'project4' : 100}\n",
    "gradebook2030S20['jones789'] = {'lab1': 100, 'lab2' : 80, 'lab3' : 70, 'lab4' : 90, 'lab5' : 100, 'project1' : 100, 'project2' : 85, 'project3' : 90, 'project4' : 90}\n",
    "gradebook2030S20['parker321'] = {'lab1': 90, 'lab2' : 85, 'lab3' : 95, 'lab4' : 90, 'lab5' : 90, 'project1' : 100, 'project2' : 78, 'project3' : 88, 'project4' : 90}\n",
    "gradebook2030S20['jackson654'] = {'lab1': 80, 'lab2' : 90, 'lab3' : 70, 'lab4' : 90, 'lab5' : 100, 'project1' : 95, 'project2' : 93, 'project3' : 99, 'project4' : 95}\n",
    "gradebook2030S20['reese987'] = {'lab1': 100, 'lab2' : 90, 'lab3' : 75, 'lab4' : 100, 'lab5' : 95, 'project1' : 90, 'project2' : 82, 'project3' : 92, 'project4' : 100}\n",
    "gradebook2030S20['wayne464'] = {'lab1': 90, 'lab2' : 95, 'lab3' : 95, 'lab4' : 90, 'lab5' : 100, 'project1' : 100, 'project2' : 65, 'project3' : 90, 'project4' : 100}\n",
    "gradebook2030S20['simmons232'] = {'lab1': 80, 'lab2' : 90, 'lab3' : 60, 'lab4' : 87, 'lab5' : 70, 'project1' : 90, 'project2' : 78, 'project3' : 88, 'project4' : 90}\n",
    "gradebook2030S20['johnson093'] = {'lab1': 93, 'lab2' : 80, 'lab3' : 80, 'lab4' : 90, 'lab5' : 100, 'project1' : 100, 'project2' : 90, 'project3' : 85, 'project4' : 90}\n",
    "gradebook2030S20['butch333'] = {'lab1': 98, 'lab2' : 85, 'lab3' : 95, 'lab4' : 80, 'lab5' : 90, 'project1' : 100, 'project2' : 78, 'project3' : 89, 'project4' : 100}\n",
    "gradebook2030S20['sam345'] = {'lab1': 88, 'lab2' : 100, 'lab3' : 70, 'lab4' : 90, 'lab5' : 80, 'project1' : 100, 'project2' : 93, 'project3' : 99, 'project4' : 95}\n",
    "gradebook2030S20['kranky345'] = {'lab1': 100, 'lab2' : 90, 'lab3' : 95, 'lab4' : 100, 'lab5' : 95, 'project1' : 90, 'project2' : 82, 'project3' : 92, 'project4' : 100}\n",
    "\n",
    "\n",
    "\n",
    "\n",
    "gradebook2030S21 = dict()  #Spring 2021\n",
    "\n",
    "gradebook2030S21['gfj234'] = {'lab1': 90, 'lab2' : 70, 'lab3' : 60, 'lab4' : 100, 'lab5' : 100, 'project1' : 80, 'project2' : 88, 'project3' : 90, 'project4' : 100}\n",
    "gradebook2030S21['sdf345'] = {'lab1': 80, 'lab2' : 90, 'lab3' : 85, 'lab4' : 95, 'lab5' : 90, 'project1' : 70, 'project2' : 85, 'project3' : 95, 'project4' : 95}\n",
    "gradebook2030S21['hkr678'] = {'lab1': 88, 'lab2' : 95, 'lab3' : 100, 'lab4' : 95, 'lab5' : 100, 'project1' : 100, 'project2' : 82, 'project3' : 94, 'project4' : 90}\n",
    "gradebook2030S21['qzz123'] = {'lab1': 84, 'lab2' : 90, 'lab3' : 95, 'lab4' : 92, 'lab5' : 90, 'project1' : 87, 'project2' : 98, 'project3' : 88, 'project4' : 80}\n",
    "gradebook2030S21['pdf567'] = {'lab1': 87, 'lab2' : 85, 'lab3' : 100, 'lab4' : 92, 'lab5' : 100, 'project1' : 92, 'project2' : 95, 'project3' : 80, 'project4' : 85}\n",
    "gradebook2030S21['klc789'] = {'lab1': 92, 'lab2' : 100, 'lab3' : 90, 'lab4' : 88, 'lab5' : 85, 'project1' : 95, 'project2' : 88, 'project3' : 95, 'project4' : 88}\n",
    "\n",
    "\n",
    "gradebookDMSS20 = dict() #Spring 2020\n",
    "\n",
    "gradebookDMSS20['doe123'] = {'finalGrade' : 95}\n",
    "gradebookDMSS20['smith456'] = {'finalGrade' : 90}\n",
    "gradebookDMSS20['jones789'] = {'finalGrade' : 88}\n",
    "gradebookDMSS20['parker321'] = {'finalGrade' : 92}\n",
    "gradebookDMSS20['jackson654'] = {'finalGrade' : 93}\n",
    "gradebookDMSS20['reese987'] = {'finalGrade' : 95}\n",
    "gradebookDMSS20['wayne464'] = {'finalGrade' : 95}\n",
    "gradebookDMSS20['simmons232'] = {'finalGrade' : 83}\n",
    "gradebookDMSS20['johnson093'] = {'finalGrade' : 92}\n",
    "gradebookDMSS20['butch333'] = {'finalGrade' : 93}\n",
    "gradebookDMSS20['sam345'] = {'finalGrade' : 88}\n",
    "gradebookDMSS20['kranky345'] = {'finalGrade' : 93}\n",
    "\n",
    "\n",
    "gradebookLIS2005S20 = dict() #Spring 2020\n",
    "\n",
    "gradebookLIS2005S20['doe123'] = {'finalGrade' : 82}\n",
    "gradebookLIS2005S20['smith456'] = {'finalGrade' : 88}\n",
    "gradebookLIS2005S20['jones789'] = {'finalGrade' : 83}\n",
    "gradebookLIS2005S20['parker321'] = {'finalGrade' : 81}\n",
    "gradebookLIS2005S20['jackson654'] = {'finalGrade' : 82}\n",
    "gradebookLIS2005S20['reese987'] = {'finalGrade' : 85}\n",
    "gradebookLIS2005S20['wayne464'] = {'finalGrade' : 83}\n",
    "gradebookLIS2005S20['simmons232'] = {'finalGrade' : 84}\n",
    "gradebookLIS2005S20['johnson093'] = {'finalGrade' : 84}\n",
    "gradebookLIS2005S20['butch333'] = {'finalGrade' : 85}\n",
    "gradebookLIS2005S20['sam345'] = {'finalGrade' : 90}\n",
    "gradebookLIS2005S20['kranky345'] = {'finalGrade' : 89}"
   ]
  },
  {
   "cell_type": "markdown",
   "metadata": {},
   "source": [
    "**Q1(a)**: Create a bar chart showing the average (and standard deviation using error bars) for all the labs and assigments in LIS 2030, Spring 2020 gradebook.  Be sure to add appropriate labels for each axis and a title for the graph."
   ]
  },
  {
   "cell_type": "code",
   "execution_count": 14,
   "metadata": {},
   "outputs": [
    {
     "data": {
      "text/plain": [
       "lab1        93.250000\n",
       "lab2        88.750000\n",
       "lab3        80.833333\n",
       "lab4        90.583333\n",
       "lab5        93.333333\n",
       "project1    96.250000\n",
       "project2    83.916667\n",
       "project3    91.666667\n",
       "project4    95.833333\n",
       "dtype: float64"
      ]
     },
     "execution_count": 14,
     "metadata": {},
     "output_type": "execute_result"
    }
   ],
   "source": [
    "#Hint 1: Remember you can get the means for each category by calling mean\n",
    "dfGradebook2030S20 = pd.DataFrame(gradebook2030S20)\n",
    "dfGradebook2030S20T = dfGradebook2030S20.T\n",
    "dfGradebook2030S20T.mean()"
   ]
  },
  {
   "cell_type": "code",
   "execution_count": 15,
   "metadata": {},
   "outputs": [
    {
     "data": {
      "text/plain": [
       "9"
      ]
     },
     "execution_count": 15,
     "metadata": {},
     "output_type": "execute_result"
    }
   ],
   "source": [
    "#Hint 2: Remember you can get the number of columns \n",
    "#(e.g.; number of bars in your chart) by looking at\n",
    "#the second value in the shape tuple\n",
    "dfGradebook2030S20T.shape[1]"
   ]
  },
  {
   "cell_type": "code",
   "execution_count": 16,
   "metadata": {},
   "outputs": [
    {
     "data": {
      "image/png": "[encoded data removed]",
      "text/plain": [
       "<Figure size 432x288 with 1 Axes>"
      ]
     },
     "metadata": {
      "needs_background": "light"
     },
     "output_type": "display_data"
    }
   ],
   "source": [
    "fig, ax = plt.subplots()\n",
    "\n",
    "N = 9\n",
    "ind = np.arange(N)\n",
    "width = .50\n",
    "\n",
    "means = dfGradebook2030S20T.mean()\n",
    "std = dfGradebook2030S20T.std()\n",
    "\n",
    "ax.bar(ind, means, width, bottom=0, yerr=std)\n",
    "ax.set_title('Average + Standard deviation for LIS2030S20')\n",
    "ax.set_xticks(ind)\n",
    "ax.set_xticklabels(('Lab1','Lab2','Lab3', 'Lab4','Lab5','Pr1','Pr2','Pr3','Pr4'))\n",
    "ax.autoscale_view()\n",
    "\n",
    "plt.show()"
   ]
  },
  {
   "cell_type": "markdown",
   "metadata": {},
   "source": [
    "**Q1(b):** Create a line graph showing the lab and project scores for both semesters of the LIS 2030 course.  Again, be sure to label each axis and graph title."
   ]
  },
  {
   "cell_type": "code",
   "execution_count": 17,
   "metadata": {
    "scrolled": true
   },
   "outputs": [
    {
     "data": {
      "image/png": "[encoded data removed]",
      "text/plain": [
       "<Figure size 432x288 with 1 Axes>"
      ]
     },
     "metadata": {
      "needs_background": "light"
     },
     "output_type": "display_data"
    }
   ],
   "source": [
    "fig, ax = plt.subplots()\n",
    "dfGradebook2030S21 = pd.DataFrame(gradebook2030S21)\n",
    "y2 = dfGradebook2030S21.T\n",
    "\n",
    "\n",
    "x = np.linspace(1,9,9)\n",
    "y = dfGradebook2030S20T.mean()\n",
    "\n",
    "x2 = np.linspace(1,9,9)\n",
    "y2 = y2.mean()\n",
    "\n",
    "line1, = ax.plot(x, y, dashes=[20,2], label='Spring 2020')\n",
    "\n",
    "line2, = ax.plot(x2,y2,dashes=[10,5], label='Spring 2021')\n",
    "\n",
    "ax.set_title('LIS2030 Spring 2020 and Spring 2021')\n",
    "ax.set_xticklabels(('','L1','L2','L3','L4','L5','P1','P2','P3','P4'))\n",
    "\n",
    "ax.legend()\n",
    "plt.show()"
   ]
  },
  {
   "cell_type": "markdown",
   "metadata": {},
   "source": [
    "**Q2:** Following the [examples](https://matplotlib.org/3.1.1/gallery/pie_and_polar_charts/pie_features.html#sphx-glr-gallery-pie-and-polar-charts-pie-features-py) posted on the MatPlotLib gallary, create a pie chart of the break down of current grades for LIS 2030, Spring 2020.  Be sure to label!"
   ]
  },
  {
   "cell_type": "code",
   "execution_count": 18,
   "metadata": {},
   "outputs": [],
   "source": [
    "# Helper code 1: \n",
    "dfGradebook2030S20T['labAverage'] = dfGradebook2030S20.loc['lab1' : 'lab5'].mean()\n",
    "dfGradebook2030S20T['labWeighted'] = dfGradebook2030S20T['labAverage'] * 0.55\n",
    "dfGradebook2030S20T['projectWeighted'] = (dfGradebook2030S20T['project1']*0.1) + (dfGradebook2030S20T['project2']*0.1 + (dfGradebook2030S20T['project3']*0.05) + (dfGradebook2030S20T['project4']*0.2))\n",
    "dfGradebook2030S20T['finalGrade'] = (dfGradebook2030S20T['labWeighted']+ dfGradebook2030S20T['projectWeighted'])"
   ]
  },
  {
   "cell_type": "code",
   "execution_count": 19,
   "metadata": {},
   "outputs": [],
   "source": [
    "# Helper code 2:\n",
    "def calculateLetterGrade (row):\n",
    "    if(row['finalGrade'] >= 97) :\n",
    "        return 'A+'\n",
    "    elif(row['finalGrade'] >= 93 and row['finalGrade'] < 97) :\n",
    "        return 'A'\n",
    "    elif(row['finalGrade'] >= 90 and row['finalGrade'] < 93) :\n",
    "        return 'A-'\n",
    "    elif(row['finalGrade'] >= 87 and row['finalGrade'] < 90) :\n",
    "        return 'B+'\n",
    "    elif(row['finalGrade'] >= 83 and row['finalGrade'] < 87) :\n",
    "        return 'B'\n",
    "    elif(row['finalGrade'] >= 80 and row['finalGrade'] < 83) :\n",
    "        return 'B-'\n",
    "    elif(row['finalGrade'] >= 77 and row['finalGrade'] < 80) :\n",
    "        return 'C+'\n",
    "    elif(row['finalGrade'] >= 73 and row['finalGrade'] < 77) :\n",
    "        return 'C'\n",
    "    elif(row['finalGrade'] >= 70 and row['finalGrade'] < 73) :\n",
    "        return 'C-'\n",
    "    elif(row['finalGrade'] >= 67 and row['finalGrade'] < 70) :\n",
    "        return 'D+'\n",
    "    elif(row['finalGrade'] >= 65 and row['finalGrade'] < 67) :\n",
    "        return 'D'\n",
    "    else :\n",
    "        return 'F';\n",
    "\n",
    "dfGradebook2030S20T['finalLetterGrade'] = dfGradebook2030S20T.apply(lambda row: calculateLetterGrade(row), axis=1)"
   ]
  },
  {
   "cell_type": "code",
   "execution_count": 20,
   "metadata": {},
   "outputs": [
    {
     "data": {
      "text/plain": [
       "doe123        A+\n",
       "smith456      A-\n",
       "jones789      B+\n",
       "parker321     B+\n",
       "jackson654    A-\n",
       "reese987      A-\n",
       "wayne464      A-\n",
       "simmons232    B-\n",
       "johnson093    B+\n",
       "butch333      A-\n",
       "sam345        A-\n",
       "kranky345      A\n",
       "Name: finalLetterGrade, dtype: object"
      ]
     },
     "execution_count": 20,
     "metadata": {},
     "output_type": "execute_result"
    }
   ],
   "source": [
    "dfGradebook2030S20T['finalLetterGrade']"
   ]
  },
  {
   "cell_type": "code",
   "execution_count": 21,
   "metadata": {},
   "outputs": [
    {
     "data": {
      "image/png": "[encoded data removed]",
      "text/plain": [
       "<Figure size 432x288 with 1 Axes>"
      ]
     },
     "metadata": {},
     "output_type": "display_data"
    }
   ],
   "source": [
    "labels = 'A+','A','A-','B+','B-'\n",
    "sizes = [1,1,6,3,1]\n",
    "explode = [0,0,0.25,0,0]\n",
    "\n",
    "fig1, ax1 = plt.subplots()\n",
    "ax1.pie(sizes,explode=explode,labels=labels,autopct='%1.1f%%',shadow=True,startangle=90)\n",
    "ax1.axis('equal')\n",
    "\n",
    "plt.show()"
   ]
  }
 ],
 "metadata": {
  "kernelspec": {
   "display_name": "Python 3 (ipykernel)",
   "language": "python",
   "name": "python3"
  },
  "language_info": {
   "codemirror_mode": {
    "name": "ipython",
    "version": 3
   },
   "file_extension": ".py",
   "mimetype": "text/x-python",
   "name": "python",
   "nbconvert_exporter": "python",
   "pygments_lexer": "ipython3",
   "version": "3.9.7"
  }
 },
 "nbformat": 4,
 "nbformat_minor": 2
}
