{
 "cells": [
  {
   "cell_type": "markdown",
   "metadata": {},
   "source": [
    "# Lab 09"
   ]
  },
  {
   "cell_type": "markdown",
   "metadata": {},
   "source": [
    "This week we will explore data analysis on data sets that we're all really fond of working with, grade data!"
   ]
  },
  {
   "cell_type": "code",
   "execution_count": 44,
   "metadata": {},
   "outputs": [],
   "source": [
    "import numpy as np\n",
    "import pandas as pd\n",
    "import scipy.stats as stats\n",
    "\n",
    "gradebook2030S20 = dict() #Spring 2020\n",
    "\n",
    "gradebook2030S20['doe123'] = {'lab1': 100, 'lab2' : 100, 'lab3' : 95, 'lab4' : 90, 'lab5' : 100, 'project1' : 100, 'project2' : 95, 'project3' : 90, 'project4' : 100}\n",
    "gradebook2030S20['smith456'] = {'lab1': 100, 'lab2' : 80, 'lab3' : 70, 'lab4' : 90, 'lab5' : 100, 'project1' : 90, 'project2' : 88, 'project3' : 98, 'project4' : 100}\n",
    "gradebook2030S20['jones789'] = {'lab1': 100, 'lab2' : 80, 'lab3' : 70, 'lab4' : 90, 'lab5' : 100, 'project1' : 100, 'project2' : 85, 'project3' : 90, 'project4' : 90}\n",
    "gradebook2030S20['parker321'] = {'lab1': 90, 'lab2' : 85, 'lab3' : 95, 'lab4' : 90, 'lab5' : 90, 'project1' : 100, 'project2' : 78, 'project3' : 88, 'project4' : 90}\n",
    "gradebook2030S20['jackson654'] = {'lab1': 80, 'lab2' : 90, 'lab3' : 70, 'lab4' : 90, 'lab5' : 100, 'project1' : 95, 'project2' : 93, 'project3' : 99, 'project4' : 95}\n",
    "gradebook2030S20['reese987'] = {'lab1': 100, 'lab2' : 90, 'lab3' : 75, 'lab4' : 100, 'lab5' : 95, 'project1' : 90, 'project2' : 82, 'project3' : 92, 'project4' : 100}\n",
    "gradebook2030S20['wayne464'] = {'lab1': 90, 'lab2' : 95, 'lab3' : 95, 'lab4' : 90, 'lab5' : 100, 'project1' : 100, 'project2' : 65, 'project3' : 90, 'project4' : 100}\n",
    "gradebook2030S20['simmons232'] = {'lab1': 80, 'lab2' : 90, 'lab3' : 60, 'lab4' : 87, 'lab5' : 70, 'project1' : 90, 'project2' : 78, 'project3' : 88, 'project4' : 90}\n",
    "gradebook2030S20['johnson093'] = {'lab1': 93, 'lab2' : 80, 'lab3' : 80, 'lab4' : 90, 'lab5' : 100, 'project1' : 100, 'project2' : 90, 'project3' : 85, 'project4' : 90}\n",
    "gradebook2030S20['butch333'] = {'lab1': 98, 'lab2' : 85, 'lab3' : 95, 'lab4' : 80, 'lab5' : 90, 'project1' : 100, 'project2' : 78, 'project3' : 89, 'project4' : 100}\n",
    "gradebook2030S20['sam345'] = {'lab1': 88, 'lab2' : 100, 'lab3' : 70, 'lab4' : 90, 'lab5' : 80, 'project1' : 100, 'project2' : 93, 'project3' : 99, 'project4' : 95}\n",
    "gradebook2030S20['kranky345'] = {'lab1': 100, 'lab2' : 90, 'lab3' : 95, 'lab4' : 100, 'lab5' : 95, 'project1' : 90, 'project2' : 82, 'project3' : 92, 'project4' : 100}\n",
    "\n",
    "\n",
    "\n",
    "\n",
    "gradebook2030S21 = dict()  #Spring 2021\n",
    "\n",
    "gradebook2030S21['gfj234'] = {'lab1': 90, 'lab2' : 70, 'lab3' : 60, 'lab4' : 100, 'lab5' : 100, 'project1' : 80, 'project2' : 88, 'project3' : 90, 'project4' : 100}\n",
    "gradebook2030S21['sdf345'] = {'lab1': 80, 'lab2' : 90, 'lab3' : 85, 'lab4' : 95, 'lab5' : 90, 'project1' : 70, 'project2' : 85, 'project3' : 95, 'project4' : 95}\n",
    "gradebook2030S21['hkr678'] = {'lab1': 88, 'lab2' : 95, 'lab3' : 100, 'lab4' : 95, 'lab5' : 100, 'project1' : 100, 'project2' : 82, 'project3' : 94, 'project4' : 90}\n",
    "gradebook2030S21['qzz123'] = {'lab1': 84, 'lab2' : 90, 'lab3' : 95, 'lab4' : 92, 'lab5' : 90, 'project1' : 87, 'project2' : 98, 'project3' : 88, 'project4' : 80}\n",
    "gradebook2030S21['pdf567'] = {'lab1': 87, 'lab2' : 85, 'lab3' : 100, 'lab4' : 92, 'lab5' : 100, 'project1' : 92, 'project2' : 95, 'project3' : 80, 'project4' : 85}\n",
    "gradebook2030S21['klc789'] = {'lab1': 92, 'lab2' : 100, 'lab3' : 90, 'lab4' : 88, 'lab5' : 85, 'project1' : 95, 'project2' : 88, 'project3' : 95, 'project4' : 88}\n",
    "\n",
    "\n",
    "gradebookDMSS20 = dict() #Spring 2020\n",
    "\n",
    "gradebookDMSS20['doe123'] = {'finalGrade' : 95}\n",
    "gradebookDMSS20['smith456'] = {'finalGrade' : 90}\n",
    "gradebookDMSS20['jones789'] = {'finalGrade' : 88}\n",
    "gradebookDMSS20['parker321'] = {'finalGrade' : 92}\n",
    "gradebookDMSS20['jackson654'] = {'finalGrade' : 93}\n",
    "gradebookDMSS20['reese987'] = {'finalGrade' : 95}\n",
    "gradebookDMSS20['wayne464'] = {'finalGrade' : 95}\n",
    "gradebookDMSS20['simmons232'] = {'finalGrade' : 83}\n",
    "gradebookDMSS20['johnson093'] = {'finalGrade' : 92}\n",
    "gradebookDMSS20['butch333'] = {'finalGrade' : 93}\n",
    "gradebookDMSS20['sam345'] = {'finalGrade' : 88}\n",
    "gradebookDMSS20['kranky345'] = {'finalGrade' : 93}\n",
    "\n",
    "\n",
    "gradebookLIS2005S20 = dict() #Spring 2020\n",
    "\n",
    "gradebookLIS2005S20['doe123'] = {'finalGrade' : 82}\n",
    "gradebookLIS2005S20['smith456'] = {'finalGrade' : 88}\n",
    "gradebookLIS2005S20['jones789'] = {'finalGrade' : 83}\n",
    "gradebookLIS2005S20['parker321'] = {'finalGrade' : 81}\n",
    "gradebookLIS2005S20['jackson654'] = {'finalGrade' : 82}\n",
    "gradebookLIS2005S20['reese987'] = {'finalGrade' : 85}\n",
    "gradebookLIS2005S20['wayne464'] = {'finalGrade' : 83}\n",
    "gradebookLIS2005S20['simmons232'] = {'finalGrade' : 84}\n",
    "gradebookLIS2005S20['johnson093'] = {'finalGrade' : 84}\n",
    "gradebookLIS2005S20['butch333'] = {'finalGrade' : 85}\n",
    "gradebookLIS2005S20['sam345'] = {'finalGrade' : 90}\n",
    "gradebookLIS2005S20['kranky345'] = {'finalGrade' : 89}"
   ]
  },
  {
   "cell_type": "markdown",
   "metadata": {},
   "source": [
    "**Q1(a)**: Perform an independent student t's test of signficance to determine if there is a statistical difference in final grades between Spring 2020 and Spring 2021 classes of LIS 2030.  Is there a significant difference?"
   ]
  },
  {
   "cell_type": "code",
   "execution_count": 45,
   "metadata": {},
   "outputs": [],
   "source": [
    "# Here is some code to help add a column of final grade\n",
    "dfGradebook2030S20 = pd.DataFrame(gradebook2030S20)\n",
    "dfGradebook2030S21 = pd.DataFrame(gradebook2030S21)\n",
    "\n",
    "gradebook2030S20T = dfGradebook2030S20.T\n",
    "gradebook2030S20T['labAverage'] = dfGradebook2030S20.loc['lab1' : 'lab8'].mean()\n",
    "gradebook2030S20T['labWeighted'] = gradebook2030S20T['labAverage'] * 0.55\n",
    "gradebook2030S20T['projectWeighted'] = (gradebook2030S20T['project1']*0.1) + (gradebook2030S20T['project2']*0.1 + (gradebook2030S20T['project3']*0.05) + (gradebook2030S20T['project4']*0.2))\n",
    "gradebook2030S20T['currentGrade'] = (gradebook2030S20T['labWeighted']+ gradebook2030S20T['projectWeighted'])\n",
    "\n",
    "gradebook2030S21T = dfGradebook2030S21.T\n",
    "gradebook2030S21T['labAverage'] = dfGradebook2030S21.loc['lab1' : 'lab8'].mean()\n",
    "gradebook2030S21T['labWeighted'] = gradebook2030S21T['labAverage'] * 0.55\n",
    "gradebook2030S21T['projectWeighted'] = (gradebook2030S21T['project1']*0.1) + (gradebook2030S21T['project2']*0.1 + (gradebook2030S21T['project3']*0.05) + (gradebook2030S21T['project4']*0.2))\n",
    "gradebook2030S21T['currentGrade'] = (gradebook2030S21T['labWeighted']+ gradebook2030S21T['projectWeighted'])"
   ]
  },
  {
   "cell_type": "code",
   "execution_count": 46,
   "metadata": {},
   "outputs": [
    {
     "data": {
      "text/plain": [
       "90.90916666666668"
      ]
     },
     "execution_count": 46,
     "metadata": {},
     "output_type": "execute_result"
    }
   ],
   "source": [
    "gradebook2030S20T['currentGrade'].mean()"
   ]
  },
  {
   "cell_type": "code",
   "execution_count": 47,
   "metadata": {},
   "outputs": [
    {
     "data": {
      "text/plain": [
       "89.76333333333334"
      ]
     },
     "execution_count": 47,
     "metadata": {},
     "output_type": "execute_result"
    }
   ],
   "source": [
    "gradebook2030S21T['currentGrade'].mean()"
   ]
  },
  {
   "cell_type": "code",
   "execution_count": 48,
   "metadata": {
    "scrolled": true
   },
   "outputs": [
    {
     "data": {
      "text/plain": [
       "gfj234    87.50\n",
       "sdf345    87.65\n",
       "hkr678    93.48\n",
       "qzz123    88.51\n",
       "pdf567    90.74\n",
       "klc789    90.70\n",
       "Name: currentGrade, dtype: float64"
      ]
     },
     "execution_count": 48,
     "metadata": {},
     "output_type": "execute_result"
    }
   ],
   "source": [
    "gradebook2030S21T['currentGrade']"
   ]
  },
  {
   "cell_type": "code",
   "execution_count": 49,
   "metadata": {},
   "outputs": [
    {
     "data": {
      "text/plain": [
       "Ttest_indResult(statistic=0.8040087767436358, pvalue=0.4340528345462207)"
      ]
     },
     "execution_count": 49,
     "metadata": {},
     "output_type": "execute_result"
    }
   ],
   "source": [
    "stats.ttest_ind(gradebook2030S20T['currentGrade'], gradebook2030S21T['currentGrade'],equal_var=False)"
   ]
  },
  {
   "cell_type": "markdown",
   "metadata": {},
   "source": [
    "Difference less than 1%"
   ]
  },
  {
   "cell_type": "markdown",
   "metadata": {},
   "source": [
    "##### **Q1(b):** Is there a stastical difference in project weighted scores?"
   ]
  },
  {
   "cell_type": "code",
   "execution_count": 50,
   "metadata": {},
   "outputs": [
    {
     "data": {
      "text/plain": [
       "41.766666666666666"
      ]
     },
     "execution_count": 50,
     "metadata": {},
     "output_type": "execute_result"
    }
   ],
   "source": [
    "gradebook2030S20T['projectWeighted'].mean()"
   ]
  },
  {
   "cell_type": "code",
   "execution_count": 51,
   "metadata": {},
   "outputs": [
    {
     "data": {
      "text/plain": [
       "40.11666666666667"
      ]
     },
     "execution_count": 51,
     "metadata": {},
     "output_type": "execute_result"
    }
   ],
   "source": [
    "gradebook2030S21T['projectWeighted'].mean()"
   ]
  },
  {
   "cell_type": "code",
   "execution_count": 52,
   "metadata": {},
   "outputs": [
    {
     "data": {
      "text/plain": [
       "Ttest_indResult(statistic=2.9809739234508057, pvalue=0.01025027399762174)"
      ]
     },
     "execution_count": 52,
     "metadata": {},
     "output_type": "execute_result"
    }
   ],
   "source": [
    "stats.ttest_ind(gradebook2030S20T['projectWeighted'], gradebook2030S21T['projectWeighted'],equal_var=False)"
   ]
  },
  {
   "cell_type": "markdown",
   "metadata": {},
   "source": [
    "Difference 2.98%"
   ]
  },
  {
   "cell_type": "markdown",
   "metadata": {},
   "source": [
    "**Q2(a):** Compute the correlation coefficient between LIS 2030 (Spring 2020) and DMS scores (Spring 2020).  Is this a stong correlation?"
   ]
  },
  {
   "cell_type": "code",
   "execution_count": 53,
   "metadata": {},
   "outputs": [],
   "source": [
    "dfGradeBookDMS = pd.DataFrame(gradebookDMSS20)\n",
    "dfGradeBookLIS = pd.DataFrame(gradebookLIS2005S20)\n",
    "dfGradeBookDMST = dfGradeBookDMS.T\n",
    "dfGradeBookLIST = dfGradeBookLIS.T\n",
    "\n",
    "r,pvalue = stats.pearsonr(dfGradeBookDMST['finalGrade'], dfGradeBookLIST['finalGrade'])"
   ]
  },
  {
   "cell_type": "code",
   "execution_count": 54,
   "metadata": {},
   "outputs": [
    {
     "data": {
      "text/plain": [
       "-0.22013501511554479"
      ]
     },
     "execution_count": 54,
     "metadata": {},
     "output_type": "execute_result"
    }
   ],
   "source": [
    "r"
   ]
  },
  {
   "cell_type": "code",
   "execution_count": 55,
   "metadata": {},
   "outputs": [
    {
     "data": {
      "text/plain": [
       "0.49177289014939196"
      ]
     },
     "execution_count": 55,
     "metadata": {},
     "output_type": "execute_result"
    }
   ],
   "source": [
    "pvalue"
   ]
  },
  {
   "cell_type": "code",
   "execution_count": 56,
   "metadata": {},
   "outputs": [
    {
     "data": {
      "text/plain": [
       "0.04845942487992113"
      ]
     },
     "execution_count": 56,
     "metadata": {},
     "output_type": "execute_result"
    }
   ],
   "source": [
    "r ** 2"
   ]
  },
  {
   "cell_type": "markdown",
   "metadata": {},
   "source": [
    "**Q2(b):** Create a scatter plot showing the realtionship between  LIS 2030 (Spring 2020) and DMS scores (Spring 2020) final grades."
   ]
  },
  {
   "cell_type": "code",
   "execution_count": 57,
   "metadata": {},
   "outputs": [],
   "source": [
    "import matplotlib.pyplot as plt"
   ]
  },
  {
   "cell_type": "code",
   "execution_count": 58,
   "metadata": {},
   "outputs": [
    {
     "data": {
      "image/png": "[encoded data removed]",
      "text/plain": [
       "<Figure size 432x288 with 1 Axes>"
      ]
     },
     "metadata": {
      "needs_background": "light"
     },
     "output_type": "display_data"
    }
   ],
   "source": [
    "df_merged['finalGradeDMS'] = pd.DataFrame(dfGradeBookDMST['finalGrade'])\n",
    "df_merged['finalGradeLIS'] = dfGradeBookLIST['finalGrade']\n",
    "\n",
    "ax1 = df_merged.plot.scatter(x='finalGradeDMS',y='finalGradeLIS',c='pink')"
   ]
  },
  {
   "cell_type": "markdown",
   "metadata": {},
   "source": [
    "**Q2(c):** Based on the plot, do you believe their is an outlier?  Compute the Z-Scores for both class grades to find out."
   ]
  },
  {
   "cell_type": "code",
   "execution_count": 59,
   "metadata": {},
   "outputs": [
    {
     "data": {
      "text/plain": [
       "array([ 1.03833237, -0.4105035 , -0.99003784,  0.16903085,  0.45879802,\n",
       "        1.03833237,  1.03833237, -2.43887371,  0.16903085,  0.45879802,\n",
       "       -0.99003784,  0.45879802])"
      ]
     },
     "execution_count": 59,
     "metadata": {},
     "output_type": "execute_result"
    }
   ],
   "source": [
    "stats.zscore(df_merged['finalGradeDMS'])"
   ]
  },
  {
   "cell_type": "code",
   "execution_count": 60,
   "metadata": {},
   "outputs": [
    {
     "data": {
      "text/plain": [
       "array([-0.95961623,  1.19952029, -0.59976014, -1.31947232, -0.95961623,\n",
       "        0.11995203, -0.59976014, -0.23990406, -0.23990406,  0.11995203,\n",
       "        1.91923246,  1.55937637])"
      ]
     },
     "execution_count": 60,
     "metadata": {},
     "output_type": "execute_result"
    }
   ],
   "source": [
    "stats.zscore(df_merged['finalGradeLIS'])"
   ]
  },
  {
   "cell_type": "markdown",
   "metadata": {},
   "source": [
    "**Q2(d):** Calculate the regression equation and plot the regression line for the LIS 2030 (Spring 2020) and DMS scores (Spring 2020) final grades correlations."
   ]
  },
  {
   "cell_type": "code",
   "execution_count": 61,
   "metadata": {},
   "outputs": [],
   "source": [
    "slope, intercept, r_value, p_value, std_err = stats.linregress(df_merged['finalGrade'], df_merged['finalGrade2'])"
   ]
  },
  {
   "cell_type": "code",
   "execution_count": 62,
   "metadata": {},
   "outputs": [
    {
     "data": {
      "text/plain": [
       "[<matplotlib.lines.Line2D at 0x1a17594c50>]"
      ]
     },
     "execution_count": 62,
     "metadata": {},
     "output_type": "execute_result"
    },
    {
     "data": {
      "image/png": "[encoded data removed]",
      "text/plain": [
       "<Figure size 432x288 with 1 Axes>"
      ]
     },
     "metadata": {
      "needs_background": "light"
     },
     "output_type": "display_data"
    }
   ],
   "source": [
    "plt.scatter(df_merged['finalGradeDMS'], df_merged['finalGradeLIS'])\n",
    "\n",
    "x = np.arange(16)\n",
    "plt.plot(x, intercept + slope * x, '-')"
   ]
  },
  {
   "cell_type": "markdown",
   "metadata": {},
   "source": [
    "**Q3(a)**: Perform and ANOVA comparing the three classes for Spring 2020, LIS 2030, DMS, and LIS 2005.  Is the ANOVA signficant?"
   ]
  },
  {
   "cell_type": "code",
   "execution_count": 71,
   "metadata": {},
   "outputs": [
    {
     "data": {
      "text/plain": [
       "F_onewayResult(statistic=18.322162985529328, pvalue=4.444933880029507e-06)"
      ]
     },
     "execution_count": 71,
     "metadata": {},
     "output_type": "execute_result"
    }
   ],
   "source": [
    "dfGradeBook2005 = pd.DataFrame(gradebookLIS2005S20)\n",
    "dfGradeBook2005T = dfGradeBook2005.T\n",
    "stats.f_oneway(dfGradeBookDMST['finalGrade'],dfGradeBookLIST['finalGrade'],dfGradeBook2005T['finalGrade'])"
   ]
  },
  {
   "cell_type": "markdown",
   "metadata": {},
   "source": [
    "The function shows an ANOVA result of 18.32."
   ]
  },
  {
   "cell_type": "markdown",
   "metadata": {},
   "source": [
    "**Q3(b)**: Perform Post-Hoc t-tests.  Which individual comparisons are different?  Did you remember to adjust the p-value for number of comparisons?"
   ]
  },
  {
   "cell_type": "code",
   "execution_count": 95,
   "metadata": {},
   "outputs": [
    {
     "data": {
      "text/plain": [
       "Ttest_indResult(statistic=0.0, pvalue=1.0)"
      ]
     },
     "execution_count": 95,
     "metadata": {},
     "output_type": "execute_result"
    }
   ],
   "source": [
    "stats.ttest_ind(dfGradeBookLIST['finalGrade'][dfGradeBookDMST['finalGrade']>0],dfGradeBook2005T['finalGrade'][dfGradeBookLIST['finalGrade']>0])"
   ]
  },
  {
   "cell_type": "code",
   "execution_count": null,
   "metadata": {},
   "outputs": [],
   "source": []
  }
 ],
 "metadata": {
  "kernelspec": {
   "display_name": "Python 3 (ipykernel)",
   "language": "python",
   "name": "python3"
  },
  "language_info": {
   "codemirror_mode": {
    "name": "ipython",
    "version": 3
   },
   "file_extension": ".py",
   "mimetype": "text/x-python",
   "name": "python",
   "nbconvert_exporter": "python",
   "pygments_lexer": "ipython3",
   "version": "3.9.7"
  }
 },
 "nbformat": 4,
 "nbformat_minor": 2
}
