{
 "cells": [
  {
   "cell_type": "markdown",
   "metadata": {},
   "source": [
    "**Q1(a)**: Write a program that creates a grade respository.  It should create a dictionary where the key is the studentID and the value is another dictionary with the key being the assignment name and the value being the grade (floating point).\n",
    "\n",
    "Your grade repository should contain some grades for each student, specifically:\n",
    "\n",
    "    studentID : doe123\n",
    "    lab1 : 90\n",
    "    lab2 : 85\n",
    "    lab3 : 95\n",
    "    \n",
    "    studentID : smith456\n",
    "    lab1: 100\n",
    "    lab2: 80\n",
    "    lab3: 70\n",
    "    \n",
    "    studentID : jones789\n",
    "    lab1: 70\n",
    "    lab2: 75\n",
    "    lab3: 80"
   ]
  },
  {
   "cell_type": "code",
   "execution_count": 2,
   "metadata": {},
   "outputs": [
    {
     "name": "stdout",
     "output_type": "stream",
     "text": [
      "{'doe123': {'lab1': '90', 'lab2': '85', 'lab3': '95'}, 'smith456': {'lab1': '100', 'lab2': '80', 'lab3': '70'}, 'jones789': {'lab1': '70', 'lab2': '75', 'lab3': '80'}}\n"
     ]
    }
   ],
   "source": [
    "studentList = {'doe123': {'lab1':'90', 'lab2':'85', 'lab3':'95'}, 'smith456':{'lab1':'100', 'lab2':'80', 'lab3':'70'}, 'jones789':{'lab1':'70', 'lab2':'75', 'lab3':'80'}}\n",
    "print(studentList)"
   ]
  },
  {
   "cell_type": "markdown",
   "metadata": {},
   "source": [
    "**Q1(b)** Now that you have created your grade repository, you should iterate through the grades to output the highest average and the highest single score."
   ]
  },
  {
   "cell_type": "code",
   "execution_count": 91,
   "metadata": {},
   "outputs": [
    {
     "name": "stdout",
     "output_type": "stream",
     "text": [
      "The highest average is: \n",
      "90.0\n",
      "The highest single score is: \n",
      "100\n"
     ]
    }
   ],
   "source": [
    "newList = []\n",
    "hScore = []\n",
    "for x in studentList:\n",
    "    gAvg = ((int(studentList[x]['lab1']) + int(studentList[x]['lab2']) + int(studentList[x]['lab3'])) / 3)\n",
    "    newList.append(gAvg)\n",
    "    hScore.append(studentList[x]['lab1'])\n",
    "    hScore.append(studentList[x]['lab2'])\n",
    "    hScore.append(studentList[x]['lab3'])\n",
    "print(\"The highest average is: \")\n",
    "print(max(newList))\n",
    "hScore.sort()\n",
    "print(\"The highest single score is: \")\n",
    "print(hScore[0])"
   ]
  }
 ],
 "metadata": {
  "kernelspec": {
   "display_name": "Python 3 (ipykernel)",
   "language": "python",
   "name": "python3"
  },
  "language_info": {
   "codemirror_mode": {
    "name": "ipython",
    "version": 3
   },
   "file_extension": ".py",
   "mimetype": "text/x-python",
   "name": "python",
   "nbconvert_exporter": "python",
   "pygments_lexer": "ipython3",
   "version": "3.9.7"
  }
 },
 "nbformat": 4,
 "nbformat_minor": 2
}
