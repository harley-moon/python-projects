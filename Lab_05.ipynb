{
 "cells": [
  {
   "cell_type": "markdown",
   "metadata": {},
   "source": [
    "**Q1(a)**: More fun with loops and dictionaries!!  \n",
    "\n",
    "Yuu will extend the answer from lab 4 to also include grades for the projects, in addition to the lab assignments.  \n",
    "\n",
    "Your will need to update your grade data structure to contain the following grades in total:\n",
    "\n",
    "    studentID : doe123\n",
    "    lab1 : 90\n",
    "    lab2 : 85\n",
    "    lab3 : 95\n",
    "    lab4 : 90\n",
    "    project1 : 100\n",
    "    project2 : 80\n",
    "    project3 : 90\n",
    "    \n",
    "    studentID : smith456\n",
    "    lab1: 100\n",
    "    lab2: 80\n",
    "    lab3: 70\n",
    "    lab4 : 90\n",
    "    project1 : 70\n",
    "    project2 : 88\n",
    "    project3 : 98\n",
    "    \n",
    "    studentID : jones789\n",
    "    lab1: 70\n",
    "    lab2: 75\n",
    "    lab3: 80\n",
    "    lab4 : 90\n",
    "    project1 : 90\n",
    "    project2 : 85\n",
    "    project3 : 92"
   ]
  },
  {
   "cell_type": "code",
   "execution_count": 2,
   "metadata": {},
   "outputs": [
    {
     "name": "stdout",
     "output_type": "stream",
     "text": [
      "{'doe123': {'lab1': 90, 'lab2': 85, 'lab3': 95, 'lab4': 90, 'project1': 100, 'project2': 80, 'project3': 90}, 'smith456': {'lab1': 100, 'lab2': 80, 'lab3': 70, 'lab4': 90, 'project1': 70, 'project2': 88, 'project3': 98}, 'jones789': {'lab1': 70, 'lab2': 75, 'lab3': 80, 'lab4': 90, 'project1': 90, 'project2': 85, 'project3': 92}}\n"
     ]
    }
   ],
   "source": [
    "# put your updated data structure here:\n",
    "\n",
    "masterDictionary = dict()\n",
    "\n",
    "masterDictionary['doe123'] = {'lab1': 90, 'lab2': 85, 'lab3': 95, 'lab4': 90, 'project1': 100, 'project2': 80, 'project3': 90}\n",
    "masterDictionary['smith456'] = {'lab1': 100, 'lab2': 80, 'lab3': 70, 'lab4': 90, 'project1': 70, 'project2': 88, 'project3': 98}\n",
    "masterDictionary['jones789'] = {'lab1': 70, 'lab2': 75, 'lab3': 80, 'lab4': 90, 'project1': 90, 'project2': 85, 'project3': 92}\n",
    "\n",
    "print(masterDictionary)"
   ]
  },
  {
   "cell_type": "markdown",
   "metadata": {},
   "source": [
    "**Q1(b)** Now that you have created your new grade data structure, let's use it to present each students current **weighted** grade.  \n",
    "\n",
    "Remember, labs are worth 55% and project deliverables are worth 45%.  However, the project grades are also weighted; 10% of the total grade for project1, 10% for project2, 5% for project3, and 20% for project4.  \n",
    "\n",
    "You should present the grade *so far* not the overall grade, since some grades are still missing.\n",
    "\n",
    "At the beginning of lecture 5, the instructor plans to walk through the question from last week.  You can use the solution discussed as a starting point for the solution this week."
   ]
  },
  {
   "cell_type": "code",
   "execution_count": 10,
   "metadata": {},
   "outputs": [
    {
     "name": "stdout",
     "output_type": "stream",
     "text": [
      "Student ID: 'doe123' weighted grade is: 90\n",
      "Student ID: 'smith456' weighted grade is: 84.31\n",
      "Student ID: 'jones789' weighted grade is: 81.77\n"
     ]
    }
   ],
   "source": [
    "doeG = (masterDictionary['doe123']['lab1'] * 13.75) + (masterDictionary['doe123']['lab2'] * 13.75) + (masterDictionary['doe123']['lab3'] * 13.75) + (masterDictionary['doe123']['lab4'] * 13.75) + (masterDictionary['doe123']['project1'] * 10) + (masterDictionary['doe123']['project2'] * 10) + (masterDictionary['doe123']['project3'] * 5)\n",
    "smithG = (masterDictionary['smith456']['lab1'] * 13.75) + (masterDictionary['smith456']['lab2'] * 13.75) + (masterDictionary['smith456']['lab3'] * 13.75) + (masterDictionary['smith456']['lab4'] * 13.75) + (masterDictionary['smith456']['project1'] * 10) + (masterDictionary['smith456']['project2'] * 10) + (masterDictionary['smith456']['project3'] * 5)\n",
    "jonesG = (masterDictionary['jones789']['lab1'] * 13.75) + (masterDictionary['jones789']['lab2'] * 13.75) + (masterDictionary['jones789']['lab3'] * 13.75) + (masterDictionary['jones789']['lab4'] * 13.75) + (masterDictionary['jones789']['project1'] * 10) + (masterDictionary['jones789']['project2'] * 10) + (masterDictionary['jones789']['project3'] * 5)\n",
    "weight = 13.75 + 13.75 + 13.75 + 13.75 + 10 + 10 + 5\n",
    "print(\"Student ID: 'doe123' weighted grade is: \" + str(round(doeG / weight)))\n",
    "print(\"Student ID: 'smith456' weighted grade is: \" + str(round(smithG / weight, 2)))\n",
    "print(\"Student ID: 'jones789' weighted grade is: \" + str(round(jonesG / weight, 2)))\n"
   ]
  }
 ],
 "metadata": {
  "kernelspec": {
   "display_name": "Python 3 (ipykernel)",
   "language": "python",
   "name": "python3"
  },
  "language_info": {
   "codemirror_mode": {
    "name": "ipython",
    "version": 3
   },
   "file_extension": ".py",
   "mimetype": "text/x-python",
   "name": "python",
   "nbconvert_exporter": "python",
   "pygments_lexer": "ipython3",
   "version": "3.9.7"
  }
 },
 "nbformat": 4,
 "nbformat_minor": 2
}
