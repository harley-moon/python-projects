{
 "cells": [
  {
   "cell_type": "markdown",
   "metadata": {},
   "source": [
    "# Lab 08"
   ]
  },
  {
   "cell_type": "markdown",
   "metadata": {},
   "source": [
    "This week we will extend our explorations of Pandas with multiple data sources.  We will work entirely in the context of our gradebook example, building on concepts from past labs but bringing new skills for combining data that should be helpful when working on semester projects."
   ]
  },
  {
   "cell_type": "code",
   "execution_count": 2,
   "metadata": {},
   "outputs": [],
   "source": [
    "import numpy as np\n",
    "import pandas as pd\n",
    "\n",
    "gradebook2030S20 = dict() #Spring 2020\n",
    "\n",
    "gradebook2030S20['doe123'] = {'lab1': 100, 'lab2' : 100, 'lab3' : 95, 'lab4' : 90, 'lab5' : 100, 'project1' : 100, 'project2' : 95, 'project3' : 90, 'project4' : 100}\n",
    "gradebook2030S20['smith456'] = {'lab1': 100, 'lab2' : 80, 'lab3' : 70, 'lab4' : 90, 'lab5' : 100, 'project1' : 90, 'project2' : 88, 'project3' : 98, 'project4' : 100}\n",
    "gradebook2030S20['jones789'] = {'lab1': 100, 'lab2' : 80, 'lab3' : 70, 'lab4' : 90, 'lab5' : 100, 'project1' : 100, 'project2' : 85, 'project3' : 90, 'project4' : 90}\n",
    "gradebook2030S20['parker321'] = {'lab1': 90, 'lab2' : 85, 'lab3' : 95, 'lab4' : 90, 'lab5' : 90, 'project1' : 100, 'project2' : 78, 'project3' : 88, 'project4' : 90}\n",
    "gradebook2030S20['jackson654'] = {'lab1': 80, 'lab2' : 90, 'lab3' : 70, 'lab4' : 90, 'lab5' : 100, 'project1' : 95, 'project2' : 93, 'project3' : 99, 'project4' : 95}\n",
    "gradebook2030S20['reese987'] = {'lab1': 100, 'lab2' : 90, 'lab3' : 75, 'lab4' : 100, 'lab5' : 95, 'project1' : 90, 'project2' : 82, 'project3' : 92, 'project4' : 100}\n",
    "\n",
    "\n",
    "gradebook2030S21 = dict()  #Spring 2021\n",
    "\n",
    "gradebook2030S21['gfj234'] = {'lab1': 90, 'lab2' : 70, 'lab3' : 60, 'lab4' : 100, 'lab5' : 100, 'project1' : 80, 'project2' : 88, 'project3' : 90, 'project4' : 100}\n",
    "gradebook2030S21['sdf345'] = {'lab1': 80, 'lab2' : 90, 'lab3' : 85, 'lab4' : 95, 'lab5' : 90, 'project1' : 70, 'project2' : 85, 'project3' : 95, 'project4' : 95}\n",
    "gradebook2030S21['hkr678'] = {'lab1': 88, 'lab2' : 95, 'lab3' : 100, 'lab4' : 95, 'lab5' : 100, 'project1' : 100, 'project2' : 82, 'project3' : 94, 'project4' : 90}\n",
    "gradebook2030S21['qzz123'] = {'lab1': 84, 'lab2' : 90, 'lab3' : 95, 'lab4' : 92, 'lab5' : 90, 'project1' : 87, 'project2' : 98, 'project3' : 88, 'project4' : 80}\n",
    "gradebook2030S21['pdf567'] = {'lab1': 87, 'lab2' : 85, 'lab3' : 100, 'lab4' : 92, 'lab5' : 100, 'project1' : 92, 'project2' : 95, 'project3' : 80, 'project4' : 85}\n",
    "gradebook2030S21['klc789'] = {'lab1': 92, 'lab2' : 100, 'lab3' : 90, 'lab4' : 88, 'lab5' : 85, 'project1' : 95, 'project2' : 88, 'project3' : 95, 'project4' : 88}\n",
    "\n",
    "\n",
    "cumulativeF19GPA = dict()\n",
    "\n",
    "cumulativeF19GPA ['doe123'] = {'gpa': 3.4, 'credits' : 24}\n",
    "cumulativeF19GPA['smith456'] = {'gpa': 3.8, 'credits' : 25}\n",
    "cumulativeF19GPA['jones789'] = {'gpa': 3.3, 'credits' : 24}\n",
    "cumulativeF19GPA['parker321'] = {'gpa': 3.9, 'credits' : 28}\n",
    "cumulativeF19GPA['jackson654'] = {'gpa': 4.0, 'credits' : 22}\n",
    "cumulativeF19GPA['reese987'] = {'gpa': 3.8, 'credits' : 25}\n",
    "\n",
    "\n",
    "gradebookDMSS20 = dict() #Spring 2020\n",
    "\n",
    "gradebookDMSS20['doe123'] = {'finalGrade' : 88}\n",
    "gradebookDMSS20['smith456'] = {'finalGrade' : 97}\n",
    "gradebookDMSS20['jones789'] = {'finalGrade' : 98}\n",
    "gradebookDMSS20['parker321'] = {'finalGrade' : 96}\n",
    "gradebookDMSS20['jackson654'] = {'finalGrade' : 93}\n",
    "gradebookDMSS20['reese987'] = {'finalGrade' : 95}\n"
   ]
  },
  {
   "cell_type": "markdown",
   "metadata": {},
   "source": [
    "**import as data frame** "
   ]
  },
  {
   "cell_type": "markdown",
   "metadata": {},
   "source": [
    "**Q1(a)**: Using Pandas, compare the class averages for LIS 2030 for Spring 2020 and Spring 2021 (yes, we have magic time travel powers).  You will need to build on work you did in Lab 7 to compute the weighted scores.  Please note that project 4 grades have been added to the dictionary above.  You can assume, for this exercise there are only 5 labs for the semester. "
   ]
  },
  {
   "cell_type": "code",
   "execution_count": 12,
   "metadata": {},
   "outputs": [
    {
     "data": {
      "text/plain": [
       "doe123        96.666667\n",
       "smith456      90.666667\n",
       "jones789      89.444444\n",
       "parker321     89.555556\n",
       "jackson654    90.222222\n",
       "reese987      91.555556\n",
       "dtype: float64"
      ]
     },
     "execution_count": 12,
     "metadata": {},
     "output_type": "execute_result"
    }
   ],
   "source": [
    "# DataFrame creation and Spring 2020 averages\n",
    "dfGrade20 = pd.DataFrame(gradebook2030S20)\n",
    "dfGrade21 = pd.DataFrame(gradebook2030S21)\n",
    "dfGrade20.mean()"
   ]
  },
  {
   "cell_type": "code",
   "execution_count": 10,
   "metadata": {},
   "outputs": [
    {
     "data": {
      "text/plain": [
       "gfj234    86.444444\n",
       "sdf345    87.222222\n",
       "hkr678    93.777778\n",
       "qzz123    89.333333\n",
       "pdf567    90.666667\n",
       "klc789    91.222222\n",
       "dtype: float64"
      ]
     },
     "execution_count": 10,
     "metadata": {},
     "output_type": "execute_result"
    }
   ],
   "source": [
    "# Spring 2021 averages\n",
    "dfGrade21.mean()"
   ]
  },
  {
   "cell_type": "code",
   "execution_count": 51,
   "metadata": {},
   "outputs": [
    {
     "name": "stdout",
     "output_type": "stream",
     "text": [
      "Class Average 2020: 90.17\n",
      "Class Average 2021: 90.27\n"
     ]
    }
   ],
   "source": [
    "# Average of Spring 2020 and Spring 2021 respectively\n",
    "classAvg1 = dfGrade20.mean().mean()\n",
    "classAvg2 = dfGrade21.mean().mean()\n",
    "print('Class Average 2020: ' + '%.2f' % classAvg1)\n",
    "print('Class Average 2021: ' + '%.2f' % classAvg2)"
   ]
  },
  {
   "cell_type": "markdown",
   "metadata": {},
   "source": [
    "**Q1(b):** Now that you have compared the total scores, investigate if one class did better on labs. Again, use Pandas. "
   ]
  },
  {
   "cell_type": "code",
   "execution_count": 58,
   "metadata": {},
   "outputs": [
    {
     "data": {
      "text/html": [
       "<div>\n",
       "<style scoped>\n",
       "    .dataframe tbody tr th:only-of-type {\n",
       "        vertical-align: middle;\n",
       "    }\n",
       "\n",
       "    .dataframe tbody tr th {\n",
       "        vertical-align: top;\n",
       "    }\n",
       "\n",
       "    .dataframe thead th {\n",
       "        text-align: right;\n",
       "    }\n",
       "</style>\n",
       "<table border=\"1\" class=\"dataframe\">\n",
       "  <thead>\n",
       "    <tr style=\"text-align: right;\">\n",
       "      <th></th>\n",
       "      <th>doe123</th>\n",
       "      <th>smith456</th>\n",
       "      <th>jones789</th>\n",
       "      <th>parker321</th>\n",
       "      <th>jackson654</th>\n",
       "      <th>reese987</th>\n",
       "    </tr>\n",
       "  </thead>\n",
       "  <tbody>\n",
       "    <tr>\n",
       "      <td>lab1</td>\n",
       "      <td>100</td>\n",
       "      <td>100</td>\n",
       "      <td>100</td>\n",
       "      <td>90</td>\n",
       "      <td>80</td>\n",
       "      <td>100</td>\n",
       "    </tr>\n",
       "    <tr>\n",
       "      <td>lab2</td>\n",
       "      <td>100</td>\n",
       "      <td>80</td>\n",
       "      <td>80</td>\n",
       "      <td>85</td>\n",
       "      <td>90</td>\n",
       "      <td>90</td>\n",
       "    </tr>\n",
       "    <tr>\n",
       "      <td>lab3</td>\n",
       "      <td>95</td>\n",
       "      <td>70</td>\n",
       "      <td>70</td>\n",
       "      <td>95</td>\n",
       "      <td>70</td>\n",
       "      <td>75</td>\n",
       "    </tr>\n",
       "    <tr>\n",
       "      <td>lab4</td>\n",
       "      <td>90</td>\n",
       "      <td>90</td>\n",
       "      <td>90</td>\n",
       "      <td>90</td>\n",
       "      <td>90</td>\n",
       "      <td>100</td>\n",
       "    </tr>\n",
       "    <tr>\n",
       "      <td>lab5</td>\n",
       "      <td>100</td>\n",
       "      <td>100</td>\n",
       "      <td>100</td>\n",
       "      <td>90</td>\n",
       "      <td>100</td>\n",
       "      <td>95</td>\n",
       "    </tr>\n",
       "  </tbody>\n",
       "</table>\n",
       "</div>"
      ],
      "text/plain": [
       "      doe123  smith456  jones789  parker321  jackson654  reese987\n",
       "lab1     100       100       100         90          80       100\n",
       "lab2     100        80        80         85          90        90\n",
       "lab3      95        70        70         95          70        75\n",
       "lab4      90        90        90         90          90       100\n",
       "lab5     100       100       100         90         100        95"
      ]
     },
     "execution_count": 58,
     "metadata": {},
     "output_type": "execute_result"
    }
   ],
   "source": [
    "# Set tables to just the labs\n",
    "dfGrade20 = dfGrade20.loc['lab1':'lab5']\n",
    "labAvg = dfGrade20.mean().mean()\n",
    "dfGrade21 = dfGrade21.loc['lab1':'lab5']\n",
    "labAvg2 = dfGrade21.mean().mean()\n",
    "dfGrade20"
   ]
  },
  {
   "cell_type": "code",
   "execution_count": 59,
   "metadata": {},
   "outputs": [
    {
     "data": {
      "text/html": [
       "<div>\n",
       "<style scoped>\n",
       "    .dataframe tbody tr th:only-of-type {\n",
       "        vertical-align: middle;\n",
       "    }\n",
       "\n",
       "    .dataframe tbody tr th {\n",
       "        vertical-align: top;\n",
       "    }\n",
       "\n",
       "    .dataframe thead th {\n",
       "        text-align: right;\n",
       "    }\n",
       "</style>\n",
       "<table border=\"1\" class=\"dataframe\">\n",
       "  <thead>\n",
       "    <tr style=\"text-align: right;\">\n",
       "      <th></th>\n",
       "      <th>gfj234</th>\n",
       "      <th>sdf345</th>\n",
       "      <th>hkr678</th>\n",
       "      <th>qzz123</th>\n",
       "      <th>pdf567</th>\n",
       "      <th>klc789</th>\n",
       "    </tr>\n",
       "  </thead>\n",
       "  <tbody>\n",
       "    <tr>\n",
       "      <td>lab1</td>\n",
       "      <td>90</td>\n",
       "      <td>80</td>\n",
       "      <td>88</td>\n",
       "      <td>84</td>\n",
       "      <td>87</td>\n",
       "      <td>92</td>\n",
       "    </tr>\n",
       "    <tr>\n",
       "      <td>lab2</td>\n",
       "      <td>70</td>\n",
       "      <td>90</td>\n",
       "      <td>95</td>\n",
       "      <td>90</td>\n",
       "      <td>85</td>\n",
       "      <td>100</td>\n",
       "    </tr>\n",
       "    <tr>\n",
       "      <td>lab3</td>\n",
       "      <td>60</td>\n",
       "      <td>85</td>\n",
       "      <td>100</td>\n",
       "      <td>95</td>\n",
       "      <td>100</td>\n",
       "      <td>90</td>\n",
       "    </tr>\n",
       "    <tr>\n",
       "      <td>lab4</td>\n",
       "      <td>100</td>\n",
       "      <td>95</td>\n",
       "      <td>95</td>\n",
       "      <td>92</td>\n",
       "      <td>92</td>\n",
       "      <td>88</td>\n",
       "    </tr>\n",
       "    <tr>\n",
       "      <td>lab5</td>\n",
       "      <td>100</td>\n",
       "      <td>90</td>\n",
       "      <td>100</td>\n",
       "      <td>90</td>\n",
       "      <td>100</td>\n",
       "      <td>85</td>\n",
       "    </tr>\n",
       "  </tbody>\n",
       "</table>\n",
       "</div>"
      ],
      "text/plain": [
       "      gfj234  sdf345  hkr678  qzz123  pdf567  klc789\n",
       "lab1      90      80      88      84      87      92\n",
       "lab2      70      90      95      90      85     100\n",
       "lab3      60      85     100      95     100      90\n",
       "lab4     100      95      95      92      92      88\n",
       "lab5     100      90     100      90     100      85"
      ]
     },
     "execution_count": 59,
     "metadata": {},
     "output_type": "execute_result"
    }
   ],
   "source": [
    "dfGrade21"
   ]
  },
  {
   "cell_type": "code",
   "execution_count": 57,
   "metadata": {},
   "outputs": [
    {
     "name": "stdout",
     "output_type": "stream",
     "text": [
      "Class Lab Average 2020: 90.17\n",
      "Class Lab Average 2021: 90.27\n"
     ]
    }
   ],
   "source": [
    "print('Class Lab Average 2020: ' + '%.2f' % labAvg)\n",
    "print('Class Lab Average 2021: ' + '%.2f' % labAvg2)"
   ]
  },
  {
   "cell_type": "markdown",
   "metadata": {},
   "source": [
    "**Q2:** Assume that these Spring 2020 students are only taking two classes this semester, compute the GPA for the Spring 2020 term.  You can assume that each class is worth 3 credit hours. Again, use Pandas."
   ]
  },
  {
   "cell_type": "code",
   "execution_count": 60,
   "metadata": {},
   "outputs": [
    {
     "data": {
      "text/html": [
       "<div>\n",
       "<style scoped>\n",
       "    .dataframe tbody tr th:only-of-type {\n",
       "        vertical-align: middle;\n",
       "    }\n",
       "\n",
       "    .dataframe tbody tr th {\n",
       "        vertical-align: top;\n",
       "    }\n",
       "\n",
       "    .dataframe thead th {\n",
       "        text-align: right;\n",
       "    }\n",
       "</style>\n",
       "<table border=\"1\" class=\"dataframe\">\n",
       "  <thead>\n",
       "    <tr style=\"text-align: right;\">\n",
       "      <th></th>\n",
       "      <th>finalGrade</th>\n",
       "    </tr>\n",
       "  </thead>\n",
       "  <tbody>\n",
       "    <tr>\n",
       "      <td>doe123</td>\n",
       "      <td>88</td>\n",
       "    </tr>\n",
       "    <tr>\n",
       "      <td>smith456</td>\n",
       "      <td>97</td>\n",
       "    </tr>\n",
       "    <tr>\n",
       "      <td>jones789</td>\n",
       "      <td>98</td>\n",
       "    </tr>\n",
       "    <tr>\n",
       "      <td>parker321</td>\n",
       "      <td>96</td>\n",
       "    </tr>\n",
       "    <tr>\n",
       "      <td>jackson654</td>\n",
       "      <td>93</td>\n",
       "    </tr>\n",
       "    <tr>\n",
       "      <td>reese987</td>\n",
       "      <td>95</td>\n",
       "    </tr>\n",
       "  </tbody>\n",
       "</table>\n",
       "</div>"
      ],
      "text/plain": [
       "            finalGrade\n",
       "doe123              88\n",
       "smith456            97\n",
       "jones789            98\n",
       "parker321           96\n",
       "jackson654          93\n",
       "reese987            95"
      ]
     },
     "execution_count": 60,
     "metadata": {},
     "output_type": "execute_result"
    }
   ],
   "source": [
    "df_gradebookDMSS20 = pd.DataFrame(gradebookDMSS20)\n",
    "df_gradebookDMSS20T = df_gradebookDMSS20.T\n",
    "df_gradebookDMSS20T"
   ]
  },
  {
   "cell_type": "code",
   "execution_count": 61,
   "metadata": {},
   "outputs": [],
   "source": [
    "def calculateGPA (row):\n",
    "    if(row['finalGrade'] >= 93) :\n",
    "        return 4.0\n",
    "    elif(row['finalGrade'] >= 90 and row['finalGrade'] < 93) :\n",
    "        return 3.7\n",
    "    elif(row['finalGrade'] >= 87 and row['finalGrade'] < 90) :\n",
    "        return 3.3\n",
    "    elif(row['finalGrade'] >= 83 and row['finalGrade'] < 87) :\n",
    "        return 3.0\n",
    "    elif(row['finalGrade'] >= 80 and row['finalGrade'] < 83) :\n",
    "        return 2.7\n",
    "    elif(row['finalGrade'] >= 77 and row['finalGrade'] < 80) :\n",
    "        return 2.3\n",
    "    elif(row['finalGrade'] >= 73 and row['finalGrade'] < 77) :\n",
    "        return 2.0\n",
    "    elif(row['finalGrade'] >= 70 and row['finalGrade'] < 73) :\n",
    "        return 1.7\n",
    "    elif(row['finalGrade'] >= 67 and row['finalGrade'] < 70) :\n",
    "        return 1.3\n",
    "    elif(row['finalGrade'] >= 65 and row['finalGrade'] < 67) :\n",
    "        return 1.0\n",
    "    else :\n",
    "        return 0;"
   ]
  },
  {
   "cell_type": "code",
   "execution_count": 62,
   "metadata": {},
   "outputs": [],
   "source": [
    "df_gradebookDMSS20T['gpa'] = df_gradebookDMSS20T.apply(lambda row: calculateGPA(row), axis=1)"
   ]
  },
  {
   "cell_type": "code",
   "execution_count": 109,
   "metadata": {},
   "outputs": [
    {
     "data": {
      "text/html": [
       "<div>\n",
       "<style scoped>\n",
       "    .dataframe tbody tr th:only-of-type {\n",
       "        vertical-align: middle;\n",
       "    }\n",
       "\n",
       "    .dataframe tbody tr th {\n",
       "        vertical-align: top;\n",
       "    }\n",
       "\n",
       "    .dataframe thead th {\n",
       "        text-align: right;\n",
       "    }\n",
       "</style>\n",
       "<table border=\"1\" class=\"dataframe\">\n",
       "  <thead>\n",
       "    <tr style=\"text-align: right;\">\n",
       "      <th></th>\n",
       "      <th>finalGrade</th>\n",
       "      <th>gpa</th>\n",
       "    </tr>\n",
       "  </thead>\n",
       "  <tbody>\n",
       "    <tr>\n",
       "      <td>doe123</td>\n",
       "      <td>88</td>\n",
       "      <td>3.3</td>\n",
       "    </tr>\n",
       "    <tr>\n",
       "      <td>smith456</td>\n",
       "      <td>97</td>\n",
       "      <td>4.0</td>\n",
       "    </tr>\n",
       "    <tr>\n",
       "      <td>jones789</td>\n",
       "      <td>98</td>\n",
       "      <td>4.0</td>\n",
       "    </tr>\n",
       "    <tr>\n",
       "      <td>parker321</td>\n",
       "      <td>96</td>\n",
       "      <td>4.0</td>\n",
       "    </tr>\n",
       "    <tr>\n",
       "      <td>jackson654</td>\n",
       "      <td>93</td>\n",
       "      <td>4.0</td>\n",
       "    </tr>\n",
       "    <tr>\n",
       "      <td>reese987</td>\n",
       "      <td>95</td>\n",
       "      <td>4.0</td>\n",
       "    </tr>\n",
       "  </tbody>\n",
       "</table>\n",
       "</div>"
      ],
      "text/plain": [
       "            finalGrade  gpa\n",
       "doe123              88  3.3\n",
       "smith456            97  4.0\n",
       "jones789            98  4.0\n",
       "parker321           96  4.0\n",
       "jackson654          93  4.0\n",
       "reese987            95  4.0"
      ]
     },
     "execution_count": 109,
     "metadata": {},
     "output_type": "execute_result"
    }
   ],
   "source": [
    "df_gradebookDMSS20T"
   ]
  },
  {
   "cell_type": "markdown",
   "metadata": {},
   "source": [
    "**Q3:** Using the cumulativeF19GPA data, compute the new GPA factoring in Spring 2020 grades. Again, use Pandas."
   ]
  },
  {
   "cell_type": "code",
   "execution_count": 110,
   "metadata": {},
   "outputs": [
    {
     "data": {
      "text/html": [
       "<div>\n",
       "<style scoped>\n",
       "    .dataframe tbody tr th:only-of-type {\n",
       "        vertical-align: middle;\n",
       "    }\n",
       "\n",
       "    .dataframe tbody tr th {\n",
       "        vertical-align: top;\n",
       "    }\n",
       "\n",
       "    .dataframe thead th {\n",
       "        text-align: right;\n",
       "    }\n",
       "</style>\n",
       "<table border=\"1\" class=\"dataframe\">\n",
       "  <thead>\n",
       "    <tr style=\"text-align: right;\">\n",
       "      <th></th>\n",
       "      <th>gpa</th>\n",
       "      <th>credits</th>\n",
       "    </tr>\n",
       "  </thead>\n",
       "  <tbody>\n",
       "    <tr>\n",
       "      <td>doe123</td>\n",
       "      <td>3.4</td>\n",
       "      <td>24.0</td>\n",
       "    </tr>\n",
       "    <tr>\n",
       "      <td>smith456</td>\n",
       "      <td>3.8</td>\n",
       "      <td>25.0</td>\n",
       "    </tr>\n",
       "    <tr>\n",
       "      <td>jones789</td>\n",
       "      <td>3.3</td>\n",
       "      <td>24.0</td>\n",
       "    </tr>\n",
       "    <tr>\n",
       "      <td>parker321</td>\n",
       "      <td>3.9</td>\n",
       "      <td>28.0</td>\n",
       "    </tr>\n",
       "    <tr>\n",
       "      <td>jackson654</td>\n",
       "      <td>4.0</td>\n",
       "      <td>22.0</td>\n",
       "    </tr>\n",
       "    <tr>\n",
       "      <td>reese987</td>\n",
       "      <td>3.8</td>\n",
       "      <td>25.0</td>\n",
       "    </tr>\n",
       "  </tbody>\n",
       "</table>\n",
       "</div>"
      ],
      "text/plain": [
       "            gpa  credits\n",
       "doe123      3.4     24.0\n",
       "smith456    3.8     25.0\n",
       "jones789    3.3     24.0\n",
       "parker321   3.9     28.0\n",
       "jackson654  4.0     22.0\n",
       "reese987    3.8     25.0"
      ]
     },
     "execution_count": 110,
     "metadata": {},
     "output_type": "execute_result"
    }
   ],
   "source": [
    "dfGPA19 = pd.DataFrame(cumulativeF19GPA)\n",
    "dfGPA19T = dfGPA19.T\n",
    "dfGPA19T"
   ]
  },
  {
   "cell_type": "code",
   "execution_count": 123,
   "metadata": {},
   "outputs": [
    {
     "data": {
      "text/html": [
       "<div>\n",
       "<style scoped>\n",
       "    .dataframe tbody tr th:only-of-type {\n",
       "        vertical-align: middle;\n",
       "    }\n",
       "\n",
       "    .dataframe tbody tr th {\n",
       "        vertical-align: top;\n",
       "    }\n",
       "\n",
       "    .dataframe thead th {\n",
       "        text-align: right;\n",
       "    }\n",
       "</style>\n",
       "<table border=\"1\" class=\"dataframe\">\n",
       "  <thead>\n",
       "    <tr style=\"text-align: right;\">\n",
       "      <th></th>\n",
       "      <th>gpa</th>\n",
       "      <th>credits</th>\n",
       "      <th>newGPA</th>\n",
       "      <th>New GPA</th>\n",
       "    </tr>\n",
       "  </thead>\n",
       "  <tbody>\n",
       "    <tr>\n",
       "      <td>doe123</td>\n",
       "      <td>3.4</td>\n",
       "      <td>24.0</td>\n",
       "      <td>3.41</td>\n",
       "      <td>3.41</td>\n",
       "    </tr>\n",
       "    <tr>\n",
       "      <td>smith456</td>\n",
       "      <td>3.8</td>\n",
       "      <td>25.0</td>\n",
       "      <td>3.48</td>\n",
       "      <td>3.48</td>\n",
       "    </tr>\n",
       "    <tr>\n",
       "      <td>jones789</td>\n",
       "      <td>3.3</td>\n",
       "      <td>24.0</td>\n",
       "      <td>3.50</td>\n",
       "      <td>3.50</td>\n",
       "    </tr>\n",
       "    <tr>\n",
       "      <td>parker321</td>\n",
       "      <td>3.9</td>\n",
       "      <td>28.0</td>\n",
       "      <td>3.43</td>\n",
       "      <td>3.43</td>\n",
       "    </tr>\n",
       "    <tr>\n",
       "      <td>jackson654</td>\n",
       "      <td>4.0</td>\n",
       "      <td>22.0</td>\n",
       "      <td>3.55</td>\n",
       "      <td>3.55</td>\n",
       "    </tr>\n",
       "    <tr>\n",
       "      <td>reese987</td>\n",
       "      <td>3.8</td>\n",
       "      <td>25.0</td>\n",
       "      <td>3.48</td>\n",
       "      <td>3.48</td>\n",
       "    </tr>\n",
       "  </tbody>\n",
       "</table>\n",
       "</div>"
      ],
      "text/plain": [
       "            gpa  credits  newGPA  New GPA\n",
       "doe123      3.4     24.0    3.41     3.41\n",
       "smith456    3.8     25.0    3.48     3.48\n",
       "jones789    3.3     24.0    3.50     3.50\n",
       "parker321   3.9     28.0    3.43     3.43\n",
       "jackson654  4.0     22.0    3.55     3.55\n",
       "reese987    3.8     25.0    3.48     3.48"
      ]
     },
     "execution_count": 123,
     "metadata": {},
     "output_type": "execute_result"
    }
   ],
   "source": [
    "# cumulative gpa = grade points * credits / total credit hours\n",
    "dfGPA19T['New GPA'] = round((df_gradebookDMSS20T['gpa'] * 3.0) / dfGPA19T['credits'] + 3, 2)\n",
    "dfGPA19T"
   ]
  },
  {
   "cell_type": "code",
   "execution_count": 127,
   "metadata": {},
   "outputs": [],
   "source": [
    "dfGPA20 = dfGPA19T.drop('newGPA', axis=1)"
   ]
  },
  {
   "cell_type": "code",
   "execution_count": 128,
   "metadata": {},
   "outputs": [
    {
     "data": {
      "text/html": [
       "<div>\n",
       "<style scoped>\n",
       "    .dataframe tbody tr th:only-of-type {\n",
       "        vertical-align: middle;\n",
       "    }\n",
       "\n",
       "    .dataframe tbody tr th {\n",
       "        vertical-align: top;\n",
       "    }\n",
       "\n",
       "    .dataframe thead th {\n",
       "        text-align: right;\n",
       "    }\n",
       "</style>\n",
       "<table border=\"1\" class=\"dataframe\">\n",
       "  <thead>\n",
       "    <tr style=\"text-align: right;\">\n",
       "      <th></th>\n",
       "      <th>gpa</th>\n",
       "      <th>credits</th>\n",
       "      <th>New GPA</th>\n",
       "    </tr>\n",
       "  </thead>\n",
       "  <tbody>\n",
       "    <tr>\n",
       "      <td>doe123</td>\n",
       "      <td>3.4</td>\n",
       "      <td>24.0</td>\n",
       "      <td>3.41</td>\n",
       "    </tr>\n",
       "    <tr>\n",
       "      <td>smith456</td>\n",
       "      <td>3.8</td>\n",
       "      <td>25.0</td>\n",
       "      <td>3.48</td>\n",
       "    </tr>\n",
       "    <tr>\n",
       "      <td>jones789</td>\n",
       "      <td>3.3</td>\n",
       "      <td>24.0</td>\n",
       "      <td>3.50</td>\n",
       "    </tr>\n",
       "    <tr>\n",
       "      <td>parker321</td>\n",
       "      <td>3.9</td>\n",
       "      <td>28.0</td>\n",
       "      <td>3.43</td>\n",
       "    </tr>\n",
       "    <tr>\n",
       "      <td>jackson654</td>\n",
       "      <td>4.0</td>\n",
       "      <td>22.0</td>\n",
       "      <td>3.55</td>\n",
       "    </tr>\n",
       "    <tr>\n",
       "      <td>reese987</td>\n",
       "      <td>3.8</td>\n",
       "      <td>25.0</td>\n",
       "      <td>3.48</td>\n",
       "    </tr>\n",
       "  </tbody>\n",
       "</table>\n",
       "</div>"
      ],
      "text/plain": [
       "            gpa  credits  New GPA\n",
       "doe123      3.4     24.0     3.41\n",
       "smith456    3.8     25.0     3.48\n",
       "jones789    3.3     24.0     3.50\n",
       "parker321   3.9     28.0     3.43\n",
       "jackson654  4.0     22.0     3.55\n",
       "reese987    3.8     25.0     3.48"
      ]
     },
     "execution_count": 128,
     "metadata": {},
     "output_type": "execute_result"
    }
   ],
   "source": [
    "dfGPA20"
   ]
  }
 ],
 "metadata": {
  "kernelspec": {
   "display_name": "Python 3 (ipykernel)",
   "language": "python",
   "name": "python3"
  },
  "language_info": {
   "codemirror_mode": {
    "name": "ipython",
    "version": 3
   },
   "file_extension": ".py",
   "mimetype": "text/x-python",
   "name": "python",
   "nbconvert_exporter": "python",
   "pygments_lexer": "ipython3",
   "version": "3.9.7"
  }
 },
 "nbformat": 4,
 "nbformat_minor": 2
}
